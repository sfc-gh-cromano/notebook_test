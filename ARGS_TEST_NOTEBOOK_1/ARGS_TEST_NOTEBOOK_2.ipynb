{
 "metadata": {
  "kernelspec": {
   "display_name": "Streamlit Notebook",
   "name": "streamlit"
  },
  "lastEditStatus": {
   "notebookId": "u5tgxojno2nkfn7njrsr",
   "authorId": "322325853055",
   "authorName": "CROMANO",
   "authorEmail": "chase.romano@snowflake.com",
   "sessionId": "d879b54c-d704-45cf-8e9f-239bf69ec360",
   "lastEditTime": 1745425540661
  }
 },
 "nbformat_minor": 5,
 "nbformat": 4,
 "cells": [
  {
   "cell_type": "code",
   "id": "3775908f-ca36-4846-8f38-5adca39217f2",
   "metadata": {
    "language": "python",
    "name": "Imports"
   },
   "source": "# Import python packages\nimport streamlit as st\nimport pandas as pd\n\n# We can also use Snowpark for our analyses!\nfrom snowflake.snowpark.context import get_active_session\nsession = get_active_session()\n",
   "execution_count": null,
   "outputs": []
  },
  {
   "cell_type": "code",
   "id": "c695373e-ac74-4b62-a1f1-08206cbd5c81",
   "metadata": {
    "language": "sql",
    "name": "Execute_notebook_with_variables"
   },
   "source": "EXECUTE NOTEBOOK ARGS_TEST_NOTEBOOK_1('--var1 test1 --var2 test2')",
   "execution_count": null,
   "outputs": []
  },
  {
   "cell_type": "code",
   "id": "dacabf08-8016-4854-9cea-39279ab9ed4f",
   "metadata": {
    "language": "sql",
    "name": "Test_it_worked"
   },
   "outputs": [],
   "source": "select * from args_test;",
   "execution_count": null
  }
 ]
}