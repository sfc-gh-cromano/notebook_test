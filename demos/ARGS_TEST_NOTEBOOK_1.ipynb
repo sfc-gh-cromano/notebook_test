{
 "metadata": {
  "kernelspec": {
   "display_name": "Streamlit Notebook",
   "name": "streamlit"
  },
  "lastEditStatus": {
   "notebookId": "4q2irv3fa27zxzayd6mh",
   "authorId": "322325853055",
   "authorName": "CROMANO",
   "authorEmail": "chase.romano@snowflake.com",
   "sessionId": "720cc266-0a18-4342-b543-cab452ac321d",
   "lastEditTime": 1745425611771
  }
 },
 "nbformat_minor": 5,
 "nbformat": 4,
 "cells": [
  {
   "cell_type": "code",
   "id": "3775908f-ca36-4846-8f38-5adca39217f2",
   "metadata": {
    "language": "python",
    "name": "Imports"
   },
   "source": "# Import python packages\nimport streamlit as st\nimport pandas as pd\nimport sys\n\n# We can also use Snowpark for our analyses!\nfrom snowflake.snowpark.context import get_active_session\nsession = get_active_session()\n",
   "execution_count": null,
   "outputs": []
  },
  {
   "cell_type": "code",
   "id": "8d50cbf4-0c8d-4950-86cb-114990437ac9",
   "metadata": {
    "language": "python",
    "name": "arg_statement"
   },
   "source": "# This cell will never change\nvalid_args = []\nfor argument in sys.argv[1:]:\n    if isinstance(argument, str) and not argument.startswith(\"--\"):\n        valid_args.append(argument)\n\nif valid_args:\n    arg_str = \"'\" + \"', '\".join(valid_args) + \"'\"",
   "execution_count": null,
   "outputs": []
  },
  {
   "cell_type": "code",
   "id": "fb938ae1-ba16-414a-9aeb-ea516421beb6",
   "metadata": {
    "language": "python",
    "name": "set_args"
   },
   "outputs": [],
   "source": "#This notebooks runs off variables called in the execute notebook statement\n#To test here uncomment test/test2\n#To test process use valid_args\n# var1 = 'test'\n# var2 = 'test2'\nvar1 = valid_args[0] \nvar2 = valid_args[1]",
   "execution_count": null
  },
  {
   "cell_type": "code",
   "id": "59200dd2-85f3-49ff-80b2-d3d35db81c1e",
   "metadata": {
    "language": "sql",
    "name": "create_test_table"
   },
   "outputs": [],
   "source": "CREATE OR REPLACE TABLE args_test(\n    a VARCHAR(20),\n    b VARCHAR(20)\n  );",
   "execution_count": null
  },
  {
   "cell_type": "code",
   "id": "9d645f03-49de-471f-af3c-555414917433",
   "metadata": {
    "language": "python",
    "name": "insert_args"
   },
   "outputs": [],
   "source": "session.sql(f'''\nINSERT INTO args_test\n  VALUES\n  ('{var1}', '{var2}')\n  ''')",
   "execution_count": null
  }
 ]
}